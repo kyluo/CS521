{
  "cells": [
    {
      "cell_type": "markdown",
      "id": "jMaWlt7aUCa_",
      "metadata": {
        "id": "jMaWlt7aUCa_"
      },
      "source": [
        "## Imports and Boilerplate"
      ]
    },
    {
      "cell_type": "code",
      "execution_count": 45,
      "id": "Lsm2GsG3UCbD",
      "metadata": {
        "id": "Lsm2GsG3UCbD"
      },
      "outputs": [],
      "source": [
        "from dl2 import dl2lib\n",
        "\n",
        "import json\n",
        "import matplotlib.pyplot as plt\n",
        "import torch\n",
        "\n",
        "# Basic Model Class\n",
        "class BasicModel(torch.nn.Module):\n",
        "    def __init__(self, input_size, hidden_sizes, output_size):\n",
        "        super(BasicModel, self).__init__()\n",
        "\n",
        "        assert len(hidden_sizes) >= 1\n",
        "\n",
        "        # Create hidden layers dynamically using a loop\n",
        "        layers = []\n",
        "        for i in range(len(hidden_sizes)):\n",
        "            if i == 0:\n",
        "                # First hidden layer connected to the input\n",
        "                layers.append(torch.nn.Linear(input_size, hidden_sizes[i]))\n",
        "            else:\n",
        "                # Subsequent hidden layers connected to the previous hidden layer\n",
        "                layers.append(torch.nn.Linear(hidden_sizes[i-1], hidden_sizes[i]))\n",
        "\n",
        "            layers.append(torch.nn.ReLU())\n",
        "\n",
        "        # Output layer\n",
        "        layers.append(torch.nn.Linear(hidden_sizes[len(hidden_sizes) - 1], output_size))\n",
        "\n",
        "        # Combine all layers into a sequential module\n",
        "        self.layers = torch.nn.Sequential(*layers)\n",
        "\n",
        "    def forward(self, inp):\n",
        "        return self.layers(inp)\n",
        "\n",
        "# Model class that works on intervals\n",
        "class IntervalNN(BasicModel):\n",
        "    def __init__(self, num_interval_inputs, hidden_sizes, output_size):\n",
        "        super().__init__(2*num_interval_inputs, hidden_sizes, output_size)\n",
        "\n",
        "    def forward(self, *intervs):\n",
        "        if len(intervs) == 1:\n",
        "            inp = intervs[0]\n",
        "        else:\n",
        "            inp = torch.cat(tuple(intervs), dim = 1)\n",
        "\n",
        "        return super().forward(inp)"
      ]
    },
    {
      "cell_type": "markdown",
      "id": "ERxewXseUCbH",
      "metadata": {
        "id": "ERxewXseUCbH"
      },
      "source": [
        "## Loading the data"
      ]
    },
    {
      "cell_type": "code",
      "execution_count": 46,
      "id": "55FeXGEuUCbJ",
      "metadata": {
        "id": "55FeXGEuUCbJ"
      },
      "outputs": [],
      "source": [
        "def load_data(file_name):\n",
        "    with open(file_name, \"r\") as f:\n",
        "        obj = json.load(f)\n",
        "\n",
        "    intervs = []\n",
        "    abs_ints = []\n",
        "\n",
        "    for o in obj:\n",
        "        intervs.append(torch.tensor(o[\"interv\"]))\n",
        "        abs_ints.append(torch.tensor(o[\"abs\"]))\n",
        "\n",
        "\n",
        "    intervs = torch.stack(intervs, dim = 0)\n",
        "    abs_ints = torch.stack(abs_ints, dim = 0)\n",
        "\n",
        "    return intervs, abs_ints\n",
        "\n",
        "intervs, abs_ints = load_data(\"datasets/interv_abs_train_data.json\")"
      ]
    },
    {
      "cell_type": "markdown",
      "id": "IvMmyABwUCbK",
      "metadata": {
        "id": "IvMmyABwUCbK"
      },
      "source": [
        "## Supervised training for sound learning of Interval Abs"
      ]
    },
    {
      "cell_type": "code",
      "execution_count": 47,
      "id": "24BJ4actUCbL",
      "metadata": {
        "id": "24BJ4actUCbL"
      },
      "outputs": [
        {
          "name": "stdout",
          "output_type": "stream",
          "text": [
            "0.0\n"
          ]
        },
        {
          "data": {
            "image/png": "[encoded data removed]",
            "text/plain": [
              "<Figure size 432x288 with 1 Axes>"
            ]
          },
          "metadata": {
            "needs_background": "light"
          },
          "output_type": "display_data"
        }
      ],
      "source": [
        "def train_sound_abs_model(model, opt, epochs, intervs, abs_ints):\n",
        "    loss_history = []\n",
        "\n",
        "    for _ in range(epochs):\n",
        "        opt.zero_grad()\n",
        "        outp = model(intervs)\n",
        "\n",
        "        # Write the logical constraint for soundness here using the DL library\n",
        "        soundness_loss = dl2lib.And([\n",
        "            dl2lib.LEQ(outp[:, 0], abs_ints[:, 0]),\n",
        "            dl2lib.GEQ(outp[:, 1], abs_ints[:, 1])\n",
        "        ]).loss(None).mean()\n",
        "\n",
        "\n",
        "        loss_history.append(soundness_loss.item())\n",
        "        soundness_loss.backward()\n",
        "        opt.step()\n",
        "\n",
        "    return loss_history\n",
        "\n",
        "sound_abs_model = IntervalNN(1,[8,16,8],2)\n",
        "lr = 0.04\n",
        "epochs = 500\n",
        "opt = torch.optim.Adam(sound_abs_model.parameters(), lr)\n",
        "loss_history = train_sound_abs_model(sound_abs_model, opt, epochs, intervs, abs_ints)\n",
        "print(loss_history[-1])\n",
        "\n",
        "plt.plot(loss_history)\n",
        "plt.xlabel('optimization step')\n",
        "plt.ylabel('loss');\n",
        "plt.show()"
      ]
    },
    {
      "cell_type": "markdown",
      "id": "Qx2Axna5UCbN",
      "metadata": {
        "id": "Qx2Axna5UCbN"
      },
      "source": [
        "## Evaluate model's quality"
      ]
    },
    {
      "cell_type": "markdown",
      "id": "3_jkW3ryUCbN",
      "metadata": {
        "id": "3_jkW3ryUCbN"
      },
      "source": [
        "After training our model, we check its quality by measuring 2 metrics:\n",
        "1. Soundness: We use our model to find the absolute of the intervals in a test set and then check if the returned absolute interval is sound. As we have the ground truths in the test set, this is easy to check; the ground truth abs interval should be inside the predicted interval.\n",
        "2. Imprecision: For the cases where the predicted answer is sound, we also measure how big the predicted interval is as compared to the ground truth.\n",
        "\n",
        "Ideally, we want a model that is very sound and as precise it can be, i.e. one with **high soundness and low imprecision**."
      ]
    },
    {
      "cell_type": "code",
      "execution_count": 48,
      "id": "hfkKw7AvUCbO",
      "metadata": {
        "id": "hfkKw7AvUCbO"
      },
      "outputs": [
        {
          "name": "stdout",
          "output_type": "stream",
          "text": [
            "Soundness Measure: 100.0  (5000 out of 5000)\n",
            "Imprecision Measure: 3074.6128781906127  (15373064.390953064 diff. in 5000 cases)\n"
          ]
        }
      ],
      "source": [
        "def evaluate_model(model):\n",
        "    # load data from test file\n",
        "    intervs, abs_ints = load_data(\"datasets/interv_abs_test_data.json\")\n",
        "\n",
        "    # get output from the model\n",
        "    output = model(intervs)\n",
        "\n",
        "    # Measuring soundness!\n",
        "    ctr = 0\n",
        "    unsound_ctr = 0\n",
        "\n",
        "    # Difference in the ranges of intervals (only count in cases of sound answers)\n",
        "    precision_sum = 0\n",
        "\n",
        "    for into, intg in zip(output, abs_ints):\n",
        "        ctr += 1\n",
        "\n",
        "        if (into[0] > intg[0]) or (into[1] < intg[1]):\n",
        "            unsound_ctr += 1\n",
        "        else:\n",
        "            # If sound, measure precision\n",
        "            precision_sum += ((into[1]-into[0]) - (intg[1] - intg[0])).item()\n",
        "\n",
        "\n",
        "    print(\"Soundness Measure:\" , ((ctr-unsound_ctr)/ctr)*100, \" ({} out of {})\".format(ctr-unsound_ctr, ctr))\n",
        "\n",
        "    if ctr != unsound_ctr:\n",
        "        print(\"Imprecision Measure:\" , (precision_sum/(ctr-unsound_ctr)), \" ({} diff. in {} cases)\".format(precision_sum, ctr-unsound_ctr))\n",
        "    else:\n",
        "        print(\"Imprecision Measure: -\")\n",
        "\n",
        "evaluate_model(sound_abs_model)"
      ]
    },
    {
      "cell_type": "markdown",
      "id": "_dSxXThaUCbQ",
      "metadata": {
        "id": "_dSxXThaUCbQ"
      },
      "source": [
        "If the soundness loss is implemented correctly, then we will observe a very high soundness accuracy of the model. But observe that the imprecision measure is also very high. This is expected because in our loss method, we only optimized for soundness. This made the model learn very large intervals like say (0, 1000), when the ground truth abs is (1, 80). We will now handle this by also including a precision penalty in the loss method, which should incentivize the model to learn smaller intervals."
      ]
    },
    {
      "cell_type": "markdown",
      "id": "MBqOy3CxUCbR",
      "metadata": {
        "id": "MBqOy3CxUCbR"
      },
      "source": [
        "## Supervised training for sound *and precise* learning of Interval Abs\n",
        "\n",
        "Add a precision loss to the training. The combined loss is a weighted combination of the soundness and precision losses. We set the weights 20:1 for now."
      ]
    },
    {
      "cell_type": "code",
      "execution_count": 49,
      "id": "oKkAu5eEUCbS",
      "metadata": {
        "id": "oKkAu5eEUCbS"
      },
      "outputs": [
        {
          "name": "stdout",
          "output_type": "stream",
          "text": [
            "22.135116577148438\n"
          ]
        },
        {
          "data": {
            "image/png": "[encoded data removed]",
            "text/plain": [
              "<Figure size 432x288 with 1 Axes>"
            ]
          },
          "metadata": {
            "needs_background": "light"
          },
          "output_type": "display_data"
        }
      ],
      "source": [
        "def train_sound_and_prec_abs_model(model, opt, epochs, intervs, abs_ints, soundness_weight, precision_weight):\n",
        "    loss_history = []\n",
        "\n",
        "    for _ in range(epochs):\n",
        "        opt.zero_grad()\n",
        "        outp = model(intervs)\n",
        "\n",
        "        # Write the same soundness loss as before here\n",
        "        soundness_loss = dl2lib.And([\n",
        "            dl2lib.LEQ(outp[:, 0], abs_ints[:, 0]),\n",
        "            dl2lib.GEQ(outp[:, 1], abs_ints[:, 1])\n",
        "        ]).loss(None).mean()\n",
        "        # Write the precision loss here\n",
        "        precision_loss = dl2lib.And([\n",
        "            dl2lib.EQ(outp[:, 0], abs_ints[:, 0]),\n",
        "            dl2lib.EQ(outp[:, 1], abs_ints[:, 1])\n",
        "        ]).loss(None).mean()\n",
        "\n",
        "        loss = soundness_weight * soundness_loss + precision_weight * precision_loss\n",
        "        loss_history.append(loss.item())\n",
        "        loss.backward()\n",
        "        opt.step()\n",
        "\n",
        "    return loss_history\n",
        "\n",
        "sound_and_prec_abs_model = IntervalNN(1,[8,16,8],2)\n",
        "lr = 0.04\n",
        "epochs = 500\n",
        "opt = torch.optim.Adam(sound_and_prec_abs_model.parameters(), lr)\n",
        "sw = 20\n",
        "pw = 1\n",
        "loss_history = train_sound_and_prec_abs_model(sound_and_prec_abs_model, opt, epochs, intervs, abs_ints, sw, pw)\n",
        "print(loss_history[-1])\n",
        "\n",
        "plt.plot(loss_history)\n",
        "plt.xlabel('optimization step')\n",
        "plt.ylabel('loss');\n",
        "plt.show()"
      ]
    },
    {
      "cell_type": "code",
      "execution_count": 50,
      "id": "l4GwJSMIUCbT",
      "metadata": {
        "id": "l4GwJSMIUCbT"
      },
      "outputs": [
        {
          "name": "stdout",
          "output_type": "stream",
          "text": [
            "Soundness Measure: 80.92  (4046 out of 5000)\n",
            "Imprecision Measure: 17.759089579484396  (71853.27643859386 diff. in 4046 cases)\n"
          ]
        }
      ],
      "source": [
        "evaluate_model(sound_and_prec_abs_model)"
      ]
    },
    {
      "cell_type": "markdown",
      "id": "ruLTvWxKUCbV",
      "metadata": {
        "id": "ruLTvWxKUCbV"
      },
      "source": [
        "## Studying Soundness vs Precision Tradeoff\n",
        "\n",
        "Analyze the soundness/precision tradeoff by experimenting with different ratios, 20:1, 10:1, etc. Plot the results and report your observations."
      ]
    },
    {
      "cell_type": "code",
      "execution_count": 54,
      "id": "fZQ8pvgSUCbV",
      "metadata": {
        "id": "fZQ8pvgSUCbV"
      },
      "outputs": [
        {
          "name": "stdout",
          "output_type": "stream",
          "text": [
            "Soundness Measure: 98.04  (4902 out of 5000)\n",
            "Imprecision Measure: 9.543348086580652  (46781.49232041836 diff. in 4902 cases)\n",
            "Soundness Measure: 100.0  (5000 out of 5000)\n",
            "Imprecision Measure: 21.053784692287444  (105268.92346143723 diff. in 5000 cases)\n",
            "Soundness Measure: 98.2  (4910 out of 5000)\n",
            "Imprecision Measure: 37.50194305951144  (184134.54042220116 diff. in 4910 cases)\n",
            "Soundness Measure: 100.0  (5000 out of 5000)\n",
            "Imprecision Measure: 35.98227838253975  (179911.39191269875 diff. in 5000 cases)\n",
            "Soundness Measure: 100.0  (5000 out of 5000)\n",
            "Imprecision Measure: 19.06302777533531  (95315.13887667656 diff. in 5000 cases)\n"
          ]
        }
      ],
      "source": [
        "losses = []\n",
        "for i in [1, 5, 50, 100, 200]:\n",
        "  temp_model = IntervalNN(1,[8,16,8],2)\n",
        "  lr = 0.04\n",
        "  epochs = 500\n",
        "  opt = torch.optim.Adam(temp_model.parameters(), lr)\n",
        "  loss_history = train_sound_and_prec_abs_model(temp_model, opt, epochs, intervs, abs_ints, 20, 1)\n",
        "  losses.append(loss_history)\n",
        "  evaluate_model(temp_model)"
      ]
    },
    {
      "cell_type": "code",
      "execution_count": 55,
      "id": "6f3e600c",
      "metadata": {},
      "outputs": [
        {
          "data": {
            "image/png": "[encoded data removed]",
            "text/plain": [
              "<Figure size 1800x360 with 5 Axes>"
            ]
          },
          "metadata": {
            "needs_background": "light"
          },
          "output_type": "display_data"
        }
      ],
      "source": [
        "ratio = [0.2, 1, 10, 20, 40]\n",
        "fig, ax = plt.subplots(1, 5, figsize=(25, 5))\n",
        "for i in range(5):\n",
        "  ax[i].plot(losses[i])\n",
        "  ax[i].title.set_text(\"ratio: \" + str(ratio[i]))\n",
        "plt.show()"
      ]
    },
    {
      "cell_type": "code",
      "execution_count": null,
      "id": "0719db1c",
      "metadata": {},
      "outputs": [],
      "source": []
    }
  ],
  "metadata": {
    "colab": {
      "provenance": []
    },
    "kernelspec": {
      "display_name": "Python 3",
      "language": "python",
      "name": "python3"
    },
    "language_info": {
      "codemirror_mode": {
        "name": "ipython",
        "version": 3
      },
      "file_extension": ".py",
      "mimetype": "text/x-python",
      "name": "python",
      "nbconvert_exporter": "python",
      "pygments_lexer": "ipython3",
      "version": "3.7.6"
    }
  },
  "nbformat": 4,
  "nbformat_minor": 5
}
