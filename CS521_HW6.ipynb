{
  "nbformat": 4,
  "nbformat_minor": 0,
  "metadata": {
    "colab": {
      "provenance": [],
      "gpuType": "T4"
    },
    "kernelspec": {
      "name": "python3",
      "display_name": "Python 3"
    },
    "language_info": {
      "name": "python"
    },
    "accelerator": "GPU"
  },
  "cells": [
    {
      "cell_type": "code",
      "execution_count": 1,
      "metadata": {
        "id": "wiBaN5FkC6cX"
      },
      "outputs": [],
      "source": [
        "import numpy as np\n",
        "import torch\n",
        "import torch.nn.functional as F\n",
        "import cv2"
      ]
    },
    {
      "cell_type": "markdown",
      "source": [
        "### Utils file"
      ],
      "metadata": {
        "id": "9kFsZ6bbDXQI"
      }
    },
    {
      "cell_type": "code",
      "source": [
        "def calculate_outputs_and_gradients(inputs, model, target_label_idx, cuda=False):\n",
        "    # do the pre-processing\n",
        "    predict_idx = None\n",
        "    gradients = []\n",
        "    for input in inputs:\n",
        "        input = pre_processing(input, cuda)\n",
        "        output = model(input)\n",
        "        output = F.softmax(output, dim=1)\n",
        "        if target_label_idx is None:\n",
        "            target_label_idx = torch.argmax(output, 1).item()\n",
        "        index = np.ones((output.size()[0], 1)) * target_label_idx\n",
        "        index = torch.tensor(index, dtype=torch.int64)\n",
        "        if cuda:\n",
        "            index = index.cuda()\n",
        "        output = output.gather(1, index)\n",
        "        # clear grad\n",
        "        model.zero_grad()\n",
        "        output.backward()\n",
        "        gradient = input.grad.detach().cpu().numpy()[0]\n",
        "        gradients.append(gradient)\n",
        "    gradients = np.array(gradients)\n",
        "    return gradients, target_label_idx\n",
        "\n",
        "def pre_processing(obs, cuda):\n",
        "    mean = np.array([0.485, 0.456, 0.406]).reshape([1, 1, 3])\n",
        "    std = np.array([0.229, 0.224, 0.225]).reshape([1, 1, 3])\n",
        "    obs = obs / 255\n",
        "    obs = (obs - mean) / std\n",
        "    obs = np.transpose(obs, (2, 0, 1))\n",
        "    obs = np.expand_dims(obs, 0)\n",
        "    obs = np.array(obs)\n",
        "    if cuda:\n",
        "        torch_device = torch.device('cuda:0')\n",
        "    else:\n",
        "        torch_device = torch.device('cpu')\n",
        "    obs_tensor = torch.tensor(obs, dtype=torch.float32, device=torch_device, requires_grad=True)\n",
        "    return obs_tensor\n",
        "\n",
        "# generate the entire images\n",
        "def generate_entrie_images(img_origin, img_grad, img_grad_overlay, img_integrad, img_integrad_overlay):\n",
        "    blank = np.ones((img_grad.shape[0], 5, 3), dtype=np.uint8) * 255\n",
        "    blank_hor = np.ones((10, 10 + img_grad.shape[1] * 3, 3), dtype=np.uint8) * 255\n",
        "    upper = np.concatenate([img_origin[:, :, (2, 1, 0)], blank, img_grad_overlay, blank, img_grad], 1)\n",
        "    down = np.concatenate([img_origin[:, :, (2, 1, 0)], blank, img_integrad_overlay, blank, img_integrad], 1)\n",
        "\n",
        "    print(upper.shape, blank_hor.shape, down.shape)\n",
        "    total = np.concatenate([upper, blank_hor, down], 0)\n",
        "    # total = cv2.resize(total, (550, 364))\n",
        "\n",
        "    return total\n"
      ],
      "metadata": {
        "id": "sn9na1kFDD8R"
      },
      "execution_count": 157,
      "outputs": []
    },
    {
      "cell_type": "markdown",
      "source": [
        "### integrated gradients file"
      ],
      "metadata": {
        "id": "WXiINE2YDUSm"
      }
    },
    {
      "cell_type": "code",
      "source": [
        "# integrated gradients\n",
        "def integrated_gradients(inputs, model, target_label_idx, predict_and_gradients, baseline, steps=50, cuda=False):\n",
        "    if baseline is None:\n",
        "        baseline = 0 * inputs\n",
        "    # scale inputs and compute gradients\n",
        "    scaled_inputs = [baseline + (float(i) / steps) * (inputs - baseline) for i in range(0, steps + 1)]\n",
        "    grads, _ = predict_and_gradients(scaled_inputs, model, target_label_idx, cuda)\n",
        "    avg_grads = np.average(grads[:-1], axis=0)\n",
        "    avg_grads = np.transpose(avg_grads, (1, 2, 0))\n",
        "    delta_X = (pre_processing(inputs, cuda) - pre_processing(baseline, cuda)).detach().squeeze(0).cpu().numpy()\n",
        "    delta_X = np.transpose(delta_X, (1, 2, 0))\n",
        "    integrated_grad = delta_X * avg_grads\n",
        "    return integrated_grad\n",
        "\n",
        "def random_baseline_integrated_gradients(inputs, model, target_label_idx, predict_and_gradients, steps, num_random_trials, cuda):\n",
        "    all_intgrads = []\n",
        "    for i in range(num_random_trials):\n",
        "        integrated_grad = integrated_gradients(inputs, model, target_label_idx, predict_and_gradients, \\\n",
        "                                                baseline=255.0 *np.random.random(inputs.shape), steps=steps, cuda=cuda)\n",
        "        all_intgrads.append(integrated_grad)\n",
        "        print('the trial number is: {}'.format(i))\n",
        "    avg_intgrads = np.average(np.array(all_intgrads), axis=0)\n",
        "    return avg_intgrads"
      ],
      "metadata": {
        "id": "WQ58MSD8DLAH"
      },
      "execution_count": 3,
      "outputs": []
    },
    {
      "cell_type": "markdown",
      "source": [
        "### Visualization File"
      ],
      "metadata": {
        "id": "h1mYgO8cDdCi"
      }
    },
    {
      "cell_type": "code",
      "source": [
        "\n",
        "G = [0, 255, 0]\n",
        "R = [255, 0, 0]\n",
        "\n",
        "def convert_to_gray_scale(attributions):\n",
        "    return np.average(attributions, axis=2)\n",
        "\n",
        "def linear_transform(attributions, clip_above_percentile=99.9, clip_below_percentile=70.0, low=0.2, plot_distribution=False):\n",
        "    m = compute_threshold_by_top_percentage(attributions, percentage=100-clip_above_percentile, plot_distribution=plot_distribution)\n",
        "    e = compute_threshold_by_top_percentage(attributions, percentage=100-clip_below_percentile, plot_distribution=plot_distribution)\n",
        "    transformed = (1 - low) * (np.abs(attributions) - e) / (m - e) + low\n",
        "    transformed *= np.sign(attributions)\n",
        "    transformed *= (transformed >= low)\n",
        "    transformed = np.clip(transformed, 0.0, 1.0)\n",
        "    return transformed\n",
        "\n",
        "def compute_threshold_by_top_percentage(attributions, percentage=60, plot_distribution=True):\n",
        "    if percentage < 0 or percentage > 100:\n",
        "        raise ValueError('percentage must be in [0, 100]')\n",
        "    if percentage == 100:\n",
        "        return np.min(attributions)\n",
        "    flat_attributions = attributions.flatten()\n",
        "    attribution_sum = np.sum(flat_attributions)\n",
        "    sorted_attributions = np.sort(np.abs(flat_attributions))[::-1]\n",
        "    cum_sum = 100.0 * np.cumsum(sorted_attributions) / attribution_sum\n",
        "    threshold_idx = np.where(cum_sum >= percentage)[0][0]\n",
        "    threshold = sorted_attributions[threshold_idx]\n",
        "    if plot_distribution:\n",
        "        raise NotImplementedError\n",
        "    return threshold\n",
        "\n",
        "def polarity_function(attributions, polarity):\n",
        "    if polarity == 'positive':\n",
        "        return np.clip(attributions, 0, 1)\n",
        "    elif polarity == 'negative':\n",
        "        return np.clip(attributions, -1, 0)\n",
        "    else:\n",
        "        raise NotImplementedError\n",
        "\n",
        "def overlay_function(attributions, image):\n",
        "    return np.clip(0.7 * image + 0.5 * attributions, 0, 255)\n",
        "\n",
        "def visualize(attributions, image, positive_channel=G, negative_channel=R, polarity='positive', \\\n",
        "                clip_above_percentile=99.9, clip_below_percentile=0, morphological_cleanup=False, \\\n",
        "                structure=np.ones((3, 3)), outlines=False, outlines_component_percentage=90, overlay=True, \\\n",
        "                mask_mode=False, plot_distribution=False):\n",
        "    if polarity == 'both':\n",
        "        raise NotImplementedError\n",
        "\n",
        "    elif polarity == 'positive':\n",
        "        attributions = polarity_function(attributions, polarity=polarity)\n",
        "        channel = positive_channel\n",
        "\n",
        "    # convert the attributions to the gray scale\n",
        "    attributions = convert_to_gray_scale(attributions)\n",
        "    attributions = linear_transform(attributions, clip_above_percentile, clip_below_percentile, 0.0, plot_distribution=plot_distribution)\n",
        "    attributions_mask = attributions.copy()\n",
        "    if morphological_cleanup:\n",
        "        raise NotImplementedError\n",
        "    if outlines:\n",
        "        raise NotImplementedError\n",
        "    attributions = np.expand_dims(attributions, 2) * channel\n",
        "    if overlay:\n",
        "        if mask_mode == False:\n",
        "            attributions = overlay_function(attributions, image)\n",
        "        else:\n",
        "            attributions = np.expand_dims(attributions_mask, 2)\n",
        "            attributions = np.clip(attributions * image, 0, 255)\n",
        "            attributions = attributions[:, :, (2, 1, 0)]\n",
        "    return attributions"
      ],
      "metadata": {
        "id": "ZvCPTiO2DB02"
      },
      "execution_count": 4,
      "outputs": []
    },
    {
      "cell_type": "markdown",
      "source": [
        "### Main file"
      ],
      "metadata": {
        "id": "y9FioV1KDf9N"
      }
    },
    {
      "cell_type": "code",
      "source": [
        "import numpy as np\n",
        "import torch\n",
        "import torch.nn as nn\n",
        "import torch.optim as optim\n",
        "import torch.nn.functional as F\n",
        "from torchvision import models, datasets, transforms\n",
        "import cv2\n",
        "import time\n",
        "\n",
        "use_cuda = True\n",
        "device = torch.device(\"cuda\" if use_cuda else \"cpu\")\n",
        "batch_size = 64\n",
        "\n",
        "np.random.seed(42)\n",
        "torch.manual_seed(42)\n",
        "\n",
        "\n",
        "## Dataloaders\n",
        "train_dataset = datasets.CIFAR10('./data', train=True, download=True, transform=transforms.Compose(\n",
        "    [transforms.ToTensor()]\n",
        "))\n",
        "test_dataset = datasets.CIFAR10('./data', train=False, download=True, transform=transforms.Compose(\n",
        "    [transforms.ToTensor()]\n",
        "))\n",
        "\n",
        "train_loader = torch.utils.data.DataLoader(train_dataset, batch_size=batch_size, shuffle=True)\n",
        "test_loader = torch.utils.data.DataLoader(test_dataset, batch_size=batch_size, shuffle=False)\n",
        "\n",
        "classes = ('plane', 'car', 'bird', 'cat',\n",
        "           'deer', 'dog', 'frog', 'horse', 'ship', 'truck')"
      ],
      "metadata": {
        "colab": {
          "base_uri": "https://localhost:8080/"
        },
        "id": "5I35DLnXDH4l",
        "outputId": "bc5911ef-0a58-4177-a3a0-a806cfeee54f"
      },
      "execution_count": 101,
      "outputs": [
        {
          "output_type": "stream",
          "name": "stdout",
          "text": [
            "Files already downloaded and verified\n",
            "Files already downloaded and verified\n"
          ]
        }
      ]
    },
    {
      "cell_type": "code",
      "source": [
        "import matplotlib.pyplot as plt\n",
        "num = 1050\n",
        "plt.imshow(np.transpose(train_dataset[num][0], (1, 2, 0)))\n",
        "plt.title(classes[train_dataset[num][1]])"
      ],
      "metadata": {
        "colab": {
          "base_uri": "https://localhost:8080/",
          "height": 469
        },
        "id": "dFNExwrjHUW6",
        "outputId": "51375024-d2cf-46ea-8f5d-e847eae9d8d7"
      },
      "execution_count": 102,
      "outputs": [
        {
          "output_type": "execute_result",
          "data": {
            "text/plain": [
              "Text(0.5, 1.0, 'bird')"
            ]
          },
          "metadata": {},
          "execution_count": 102
        },
        {
          "output_type": "display_data",
          "data": {
            "text/plain": [
              "<Figure size 640x480 with 1 Axes>"
            ],
            "image/png": "[encoded data removed]"
          },
          "metadata": {}
        }
      ]
    },
    {
      "cell_type": "code",
      "source": [
        "def pgd_untargeted(model, x, labels, eps, eps_step, num_itr=15, device='cpu'):\n",
        "    x_new = x.clone().requires_grad_(True)\n",
        "    L = nn.CrossEntropyLoss()\n",
        "\n",
        "    for i in range(num_itr):\n",
        "        x_new = x_new.clone().detach().to(device).requires_grad_(True)\n",
        "        loss = L(model(x_new), labels)\n",
        "        loss.backward()\n",
        "        with torch.no_grad():\n",
        "            x_new = x_new + x_new.grad.sign() * eps_step\n",
        "        x_new = torch.clamp(x_new, x - eps, x + eps)\n",
        "        x_new = x_new.clamp(*(0, 1))\n",
        "    return x_new\n",
        "\n",
        "def train_model(model, num_epochs, enable_defense=True, device='cpu'):\n",
        "    model.train()\n",
        "    learning_rate = 0.0001\n",
        "\n",
        "    opt = optim.Adam(params=model.parameters(), lr=learning_rate)\n",
        "\n",
        "    ce_loss = torch.nn.CrossEntropyLoss()\n",
        "\n",
        "    tot_steps = 0\n",
        "\n",
        "    for epoch in range(1,num_epochs+1):\n",
        "        t1 = time.time()\n",
        "        for batch_idx, (x_batch, y_batch) in enumerate(train_loader):\n",
        "            x_batch, y_batch = x_batch.to(device), y_batch.to(device)\n",
        "\n",
        "            if enable_defense:\n",
        "                x_batch = pgd_untargeted(model, x_batch, y_batch, 10.0/256, 1.0/256, device=device)\n",
        "\n",
        "            tot_steps += 1\n",
        "            opt.zero_grad()\n",
        "            out = model(x_batch)\n",
        "            batch_loss = ce_loss(out, y_batch)\n",
        "            batch_loss.backward()\n",
        "            opt.step()\n",
        "\n",
        "        tot_test, tot_acc = 0.0, 0.0\n",
        "        for batch_idx, (x_batch, y_batch) in enumerate(test_loader):\n",
        "            x_batch, y_batch = x_batch.to(device), y_batch.to(device)\n",
        "            out = model(x_batch)\n",
        "            pred = torch.max(out, dim=1)[1]\n",
        "            acc = pred.eq(y_batch).sum().item()\n",
        "            tot_acc += acc\n",
        "            tot_test += x_batch.size()[0]\n",
        "        t2 = time.time()\n",
        "\n",
        "        print('Epoch %d: Accuracy %.5lf [%.2lf seconds]' % (epoch, tot_acc/tot_test, t2-t1))\n",
        "    return model"
      ],
      "metadata": {
        "id": "nzmmfL_OF88u"
      },
      "execution_count": 109,
      "outputs": []
    },
    {
      "cell_type": "code",
      "source": [
        "model = models.resnet18()\n",
        "model.to(device)\n",
        "model = train_model(model, 15, enable_defense=True, device=device)"
      ],
      "metadata": {
        "colab": {
          "base_uri": "https://localhost:8080/"
        },
        "id": "EnWayj8oIkad",
        "outputId": "529f6341-cf5c-4267-859a-f575ded3ea2f"
      },
      "execution_count": 110,
      "outputs": [
        {
          "output_type": "stream",
          "name": "stdout",
          "text": [
            "Epoch 1: Accuracy 0.20470 [175.02 seconds]\n",
            "Epoch 2: Accuracy 0.26950 [174.41 seconds]\n",
            "Epoch 3: Accuracy 0.33720 [174.51 seconds]\n",
            "Epoch 4: Accuracy 0.37750 [175.48 seconds]\n",
            "Epoch 5: Accuracy 0.41470 [174.50 seconds]\n",
            "Epoch 6: Accuracy 0.42800 [174.63 seconds]\n",
            "Epoch 7: Accuracy 0.44820 [174.26 seconds]\n",
            "Epoch 8: Accuracy 0.46420 [174.48 seconds]\n",
            "Epoch 9: Accuracy 0.48740 [175.21 seconds]\n",
            "Epoch 10: Accuracy 0.49410 [175.22 seconds]\n",
            "Epoch 11: Accuracy 0.49790 [174.56 seconds]\n",
            "Epoch 12: Accuracy 0.50580 [174.62 seconds]\n",
            "Epoch 13: Accuracy 0.50890 [174.64 seconds]\n",
            "Epoch 14: Accuracy 0.52480 [175.02 seconds]\n",
            "Epoch 15: Accuracy 0.52540 [174.91 seconds]\n"
          ]
        }
      ]
    },
    {
      "cell_type": "code",
      "source": [
        "model = train_model(model, 10, enable_defense=True, device=device)"
      ],
      "metadata": {
        "colab": {
          "base_uri": "https://localhost:8080/"
        },
        "id": "CsPOuxl2z7nN",
        "outputId": "fd48ec0e-ed6d-4336-c904-1e594bd61a5e"
      },
      "execution_count": 111,
      "outputs": [
        {
          "output_type": "stream",
          "name": "stdout",
          "text": [
            "Epoch 1: Accuracy 0.53250 [175.87 seconds]\n",
            "Epoch 2: Accuracy 0.52670 [174.26 seconds]\n",
            "Epoch 3: Accuracy 0.54910 [174.42 seconds]\n",
            "Epoch 4: Accuracy 0.54810 [174.88 seconds]\n",
            "Epoch 5: Accuracy 0.54450 [175.12 seconds]\n",
            "Epoch 6: Accuracy 0.54440 [174.27 seconds]\n",
            "Epoch 7: Accuracy 0.56900 [174.46 seconds]\n",
            "Epoch 8: Accuracy 0.56560 [174.60 seconds]\n",
            "Epoch 9: Accuracy 0.55980 [174.52 seconds]\n",
            "Epoch 10: Accuracy 0.56790 [175.25 seconds]\n"
          ]
        }
      ]
    },
    {
      "cell_type": "code",
      "source": [
        "model = train_model(model, 10, enable_defense=True, device=device)"
      ],
      "metadata": {
        "colab": {
          "base_uri": "https://localhost:8080/"
        },
        "id": "rDzfd5Pj85wR",
        "outputId": "0f06c8a2-ab1e-49b6-a654-3229e88a1d14"
      },
      "execution_count": 112,
      "outputs": [
        {
          "output_type": "stream",
          "name": "stdout",
          "text": [
            "Epoch 1: Accuracy 0.55820 [176.12 seconds]\n",
            "Epoch 2: Accuracy 0.56650 [174.65 seconds]\n",
            "Epoch 3: Accuracy 0.56420 [174.53 seconds]\n",
            "Epoch 4: Accuracy 0.56220 [174.39 seconds]\n",
            "Epoch 5: Accuracy 0.56330 [174.58 seconds]\n",
            "Epoch 6: Accuracy 0.57190 [175.35 seconds]\n",
            "Epoch 7: Accuracy 0.56380 [174.62 seconds]\n",
            "Epoch 8: Accuracy 0.56720 [174.64 seconds]\n",
            "Epoch 9: Accuracy 0.57240 [174.50 seconds]\n",
            "Epoch 10: Accuracy 0.56670 [174.55 seconds]\n"
          ]
        }
      ]
    },
    {
      "cell_type": "code",
      "source": [
        "model.eval()\n",
        "# read the image\n",
        "num_sample = 2050\n",
        "img = train_dataset[num_sample][0].numpy()\n",
        "\n",
        "plt.imshow(np.transpose(img, (1, 2, 0)).astype(np.float32) )\n",
        "plt.title(classes[train_dataset[num_sample][1]])"
      ],
      "metadata": {
        "colab": {
          "base_uri": "https://localhost:8080/",
          "height": 469
        },
        "id": "dV0-M5upGO-d",
        "outputId": "7f0d1a66-8e2c-4e49-d750-8d820bb57d14"
      },
      "execution_count": 171,
      "outputs": [
        {
          "output_type": "execute_result",
          "data": {
            "text/plain": [
              "Text(0.5, 1.0, 'frog')"
            ]
          },
          "metadata": {},
          "execution_count": 171
        },
        {
          "output_type": "display_data",
          "data": {
            "text/plain": [
              "<Figure size 640x480 with 1 Axes>"
            ],
            "image/png": "[encoded data removed]"
          },
          "metadata": {}
        }
      ]
    },
    {
      "cell_type": "code",
      "source": [
        "img_temp = torch.unsqueeze(torch.tensor(img), 0)\n",
        "print(img_temp.shape)\n",
        "out = model(img_temp.to(device))\n",
        "pred = torch.max(out, dim=1)[1]\n",
        "print(classes[pred[0]], classes[train_dataset[num_sample][1]])"
      ],
      "metadata": {
        "colab": {
          "base_uri": "https://localhost:8080/"
        },
        "id": "pm3Ov6uaGNqD",
        "outputId": "85b075b0-dbf2-41ee-c6ad-431f009d40e5"
      },
      "execution_count": 172,
      "outputs": [
        {
          "output_type": "stream",
          "name": "stdout",
          "text": [
            "torch.Size([1, 3, 32, 32])\n",
            "frog frog\n"
          ]
        }
      ]
    },
    {
      "cell_type": "code",
      "source": [
        "# calculate the gradient and the label index\n",
        "img_in = np.transpose(img, (1, 2, 0)).astype(np.float32)\n",
        "gradients, label_index = calculate_outputs_and_gradients([img_in], model, None, device)\n",
        "gradients = np.transpose(gradients[0], (1, 2, 0))\n",
        "print(gradients.shape, classes[label_index])\n",
        "img_gradient_overlay = visualize(gradients, img_in, clip_above_percentile=99, clip_below_percentile=0, overlay=True, mask_mode=True)\n",
        "img_gradient = visualize(gradients, img, clip_above_percentile=99, clip_below_percentile=0, overlay=False)\n",
        "print(img_gradient_overlay.shape, img_gradient.shape)"
      ],
      "metadata": {
        "colab": {
          "base_uri": "https://localhost:8080/"
        },
        "id": "XiuV4iRKn-Nl",
        "outputId": "1adff227-1f85-4350-edb9-03197cc4e689"
      },
      "execution_count": 173,
      "outputs": [
        {
          "output_type": "stream",
          "name": "stdout",
          "text": [
            "(32, 32, 3) deer\n",
            "(32, 32, 3) (32, 32, 3)\n"
          ]
        }
      ]
    },
    {
      "cell_type": "code",
      "source": [
        "# calculae the integrated gradients\n",
        "attributions = random_baseline_integrated_gradients(img_in, model, label_index, calculate_outputs_and_gradients, steps=50, num_random_trials=10, cuda=use_cuda)\n",
        "img_integrated_gradient_overlay = visualize(attributions, img_in, clip_above_percentile=99, clip_below_percentile=0, overlay=True, mask_mode=True)\n",
        "img_integrated_gradient = visualize(attributions, img_in, clip_above_percentile=99, clip_below_percentile=0, overlay=False)\n",
        "print(img_integrated_gradient_overlay.shape, img_integrated_gradient.shape)\n",
        "output_img = generate_entrie_images(img_in, img_gradient, img_gradient_overlay, img_integrated_gradient, img_integrated_gradient_overlay)"
      ],
      "metadata": {
        "colab": {
          "base_uri": "https://localhost:8080/"
        },
        "id": "L-hsUiMLF72s",
        "outputId": "38f67ee2-e032-40fa-a820-9716ba7471ea"
      },
      "execution_count": 174,
      "outputs": [
        {
          "output_type": "stream",
          "name": "stdout",
          "text": [
            "the trial number is: 0\n",
            "the trial number is: 1\n",
            "the trial number is: 2\n",
            "the trial number is: 3\n",
            "the trial number is: 4\n",
            "the trial number is: 5\n",
            "the trial number is: 6\n",
            "the trial number is: 7\n",
            "the trial number is: 8\n",
            "the trial number is: 9\n",
            "(32, 32, 3) (32, 32, 3)\n",
            "(32, 106, 3) (10, 106, 3) (32, 106, 3)\n"
          ]
        }
      ]
    },
    {
      "cell_type": "code",
      "source": [
        "plt.imshow(output_img)"
      ],
      "metadata": {
        "colab": {
          "base_uri": "https://localhost:8080/",
          "height": 445
        },
        "id": "EWeSWpkYPi7h",
        "outputId": "236468d5-ba22-4e5a-e949-441852740f7d"
      },
      "execution_count": 175,
      "outputs": [
        {
          "output_type": "stream",
          "name": "stderr",
          "text": [
            "WARNING:matplotlib.image:Clipping input data to the valid range for imshow with RGB data ([0..1] for floats or [0..255] for integers).\n"
          ]
        },
        {
          "output_type": "execute_result",
          "data": {
            "text/plain": [
              "<matplotlib.image.AxesImage at 0x79fa9e397ee0>"
            ]
          },
          "metadata": {},
          "execution_count": 175
        },
        {
          "output_type": "display_data",
          "data": {
            "text/plain": [
              "<Figure size 640x480 with 1 Axes>"
            ],
            "image/png": "[encoded data removed]"
          },
          "metadata": {}
        }
      ]
    },
    {
      "cell_type": "code",
      "source": [],
      "metadata": {
        "id": "52CaBZB8ndEo"
      },
      "execution_count": 175,
      "outputs": []
    }
  ]
}