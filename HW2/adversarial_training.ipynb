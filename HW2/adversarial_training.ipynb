{
  "cells": [
    {
      "cell_type": "markdown",
      "source": [
        "# Boilerplate\n",
        "\n",
        "Packae installation, loading, and dataloaders. There's also a simple model defined. You can change it your favourite architecture if you want."
      ],
      "metadata": {
        "id": "Whsg1XX_OZs6"
      }
    },
    {
      "cell_type": "code",
      "source": [
        "!pip install tensorboardX\n",
        "\n",
        "import torch\n",
        "import torch.nn as nn\n",
        "import torch.optim as optim\n",
        "import torch.nn.functional as F\n",
        "import numpy as np\n",
        "import time\n",
        "\n",
        "from torchvision import datasets, transforms\n",
        "from tensorboardX import SummaryWriter"
      ],
      "metadata": {
        "colab": {
          "base_uri": "https://localhost:8080/"
        },
        "id": "O7C9wK9GheAK",
        "outputId": "566d325f-48a3-493d-d50e-63dc7d90e373"
      },
      "execution_count": 19,
      "outputs": [
        {
          "output_type": "stream",
          "name": "stdout",
          "text": [
            "Requirement already satisfied: tensorboardX in /usr/local/lib/python3.10/dist-packages (2.6.2.2)\n",
            "Requirement already satisfied: numpy in /usr/local/lib/python3.10/dist-packages (from tensorboardX) (1.23.5)\n",
            "Requirement already satisfied: packaging in /usr/local/lib/python3.10/dist-packages (from tensorboardX) (23.1)\n",
            "Requirement already satisfied: protobuf>=3.20 in /usr/local/lib/python3.10/dist-packages (from tensorboardX) (3.20.3)\n"
          ]
        }
      ]
    },
    {
      "cell_type": "code",
      "execution_count": 114,
      "metadata": {
        "id": "R1domTvnONqD"
      },
      "outputs": [],
      "source": [
        "use_cuda = False\n",
        "device = torch.device(\"cuda\" if use_cuda else \"cpu\")\n",
        "batch_size = 64\n",
        "\n",
        "np.random.seed(42)\n",
        "torch.manual_seed(42)\n",
        "\n",
        "\n",
        "## Dataloaders\n",
        "train_dataset = datasets.MNIST('mnist_data/', train=True, download=True, transform=transforms.Compose(\n",
        "    [transforms.ToTensor()]\n",
        "))\n",
        "test_dataset = datasets.MNIST('mnist_data/', train=False, download=True, transform=transforms.Compose(\n",
        "    [transforms.ToTensor()]\n",
        "))\n",
        "\n",
        "train_loader = torch.utils.data.DataLoader(train_dataset, batch_size=batch_size, shuffle=True)\n",
        "test_loader = torch.utils.data.DataLoader(test_dataset, batch_size=batch_size, shuffle=False)\n",
        "\n",
        "## Simple NN. You can change this if you want.\n",
        "class Net(nn.Module):\n",
        "    def __init__(self):\n",
        "        super(Net, self).__init__()\n",
        "        self.fc = nn.Linear(28*28, 200)\n",
        "        self.fc2 = nn.Linear(200,10)\n",
        "\n",
        "    def forward(self, x):\n",
        "        x = x.view((-1, 28*28))\n",
        "        x = F.relu(self.fc(x))\n",
        "        x = self.fc2(x)\n",
        "        return x\n",
        "\n",
        "class Normalize(nn.Module):\n",
        "    def forward(self, x):\n",
        "        return (x - 0.1307)/0.3081\n",
        "\n",
        "# Add the data normalization as a first \"layer\" to the network\n",
        "# this allows us to search for adverserial examples to the real image, rather than\n",
        "# to the normalized image\n",
        "model_raw = nn.Sequential(Normalize(), Net())\n",
        "\n",
        "model_raw = model_raw.to(device)"
      ]
    },
    {
      "cell_type": "code",
      "source": [
        "import matplotlib.pyplot as plt\n",
        "plt.imshow(train_dataset[0][0][0])\n",
        "plt.title(train_dataset[0][1])"
      ],
      "metadata": {
        "colab": {
          "base_uri": "https://localhost:8080/",
          "height": 469
        },
        "id": "2wbMFiMsjDo1",
        "outputId": "861ad5d1-3c2b-4477-bd5e-6326e82d34cd"
      },
      "execution_count": 115,
      "outputs": [
        {
          "output_type": "execute_result",
          "data": {
            "text/plain": [
              "Text(0.5, 1.0, '5')"
            ]
          },
          "metadata": {},
          "execution_count": 115
        },
        {
          "output_type": "display_data",
          "data": {
            "text/plain": [
              "<Figure size 640x480 with 1 Axes>"
            ],
            "image/png": "[encoded data removed]"
          },
          "metadata": {}
        }
      ]
    },
    {
      "cell_type": "markdown",
      "source": [
        "# Implement the Attacks\n",
        "\n",
        "Functions are given a simple useful signature that you can start with. Feel free to extend the signature as you see fit.\n",
        "\n",
        "You may find it useful to create a 'batched' version of PGD that you can use to create the adversarial attack."
      ],
      "metadata": {
        "id": "NCmWfZHTO8Oo"
      }
    },
    {
      "cell_type": "code",
      "execution_count": 116,
      "metadata": {
        "id": "EZjvA49yONqP"
      },
      "outputs": [],
      "source": [
        "# The last argument 'targeted' can be used to toggle between a targeted and untargeted attack.\n",
        "def fgsm(model, x, target, eps, targeted=True):\n",
        "  x.requires_grad_()\n",
        "  L = nn.CrossEntropyLoss()\n",
        "  eps_new = eps - 1e-7\n",
        "  loss = L(model(x), target)\n",
        "  loss.backward()\n",
        "  if targeted:\n",
        "    x = x - eps_new * x.grad.sign()\n",
        "  else:\n",
        "    x = x + eps_new * x.grad.sign()\n",
        "  x = x.clamp(*(0, 1))\n",
        "  return x\n",
        "\n",
        "def pgd_untargeted(model, x, labels, eps, eps_step, num_itr=30):\n",
        "  x_new = x.clone().requires_grad_(True)\n",
        "  L = nn.CrossEntropyLoss()\n",
        "\n",
        "  for i in range(num_itr):\n",
        "    x_new = x_new.clone().detach().requires_grad_(True)\n",
        "    loss = L(model(x_new), labels)\n",
        "    loss.backward()\n",
        "    with torch.no_grad():\n",
        "      x_new = x_new + x_new.grad.sign() * eps_step\n",
        "    x_new = torch.clamp(x_new, x - eps, x + eps)\n",
        "    x_new = x_new.clamp(*(0, 1))\n",
        "  return x_new.detach()"
      ]
    },
    {
      "cell_type": "markdown",
      "source": [
        "# Implement Adversarial Training"
      ],
      "metadata": {
        "id": "0Mja_AB4RykO"
      }
    },
    {
      "cell_type": "code",
      "execution_count": 117,
      "metadata": {
        "id": "V-sw8yKYONqQ"
      },
      "outputs": [],
      "source": [
        "def train_model(model, num_epochs, enable_defense=True):\n",
        "    model.train()\n",
        "    learning_rate = 0.0001\n",
        "\n",
        "    opt = optim.Adam(params=model.parameters(), lr=learning_rate)\n",
        "\n",
        "    ce_loss = torch.nn.CrossEntropyLoss()\n",
        "\n",
        "    tot_steps = 0\n",
        "\n",
        "    for epoch in range(1,num_epochs+1):\n",
        "        t1 = time.time()\n",
        "        for batch_idx, (x_batch, y_batch) in enumerate(train_loader):\n",
        "\n",
        "            if enable_defense:\n",
        "                pass\n",
        "                ###############################################\n",
        "                # Fill code here to do adversarial training\n",
        "                # You may find it useful to switch to 'eval' model while generating the attack\n",
        "                # and switch back again to 'train' mode once the attack is generated.\n",
        "                ###############################################\n",
        "                # pgd_untargeted(model, x, labels, k, eps, eps_step, num_itr=30)\n",
        "                x_batch = pgd_untargeted(model, x_batch, y_batch, 20.0/256, 1.0/256)\n",
        "\n",
        "            x_batch, y_batch = x_batch.to(device), y_batch.to(device)\n",
        "            tot_steps += 1\n",
        "            opt.zero_grad()\n",
        "            out = model(x_batch)\n",
        "            batch_loss = ce_loss(out, y_batch)\n",
        "            batch_loss.backward()\n",
        "            opt.step()\n",
        "\n",
        "        tot_test, tot_acc = 0.0, 0.0\n",
        "        for batch_idx, (x_batch, y_batch) in enumerate(test_loader):\n",
        "            x_batch, y_batch = x_batch.to(device), y_batch.to(device)\n",
        "            out = model(x_batch)\n",
        "            pred = torch.max(out, dim=1)[1]\n",
        "            acc = pred.eq(y_batch).sum().item()\n",
        "            tot_acc += acc\n",
        "            tot_test += x_batch.size()[0]\n",
        "        t2 = time.time()\n",
        "\n",
        "        print('Epoch %d: Accuracy %.5lf [%.2lf seconds]' % (epoch, tot_acc/tot_test, t2-t1))\n",
        "    return model"
      ]
    },
    {
      "cell_type": "code",
      "source": [
        "model_basic = train_model(model_raw, 10, enable_defense=False)"
      ],
      "metadata": {
        "colab": {
          "base_uri": "https://localhost:8080/"
        },
        "id": "wm2JDTuAtnIy",
        "outputId": "0dc7703d-de03-45ff-93bb-453323b91712"
      },
      "execution_count": 119,
      "outputs": [
        {
          "output_type": "stream",
          "name": "stdout",
          "text": [
            "Epoch 1: Accuracy 0.91860 [8.81 seconds]\n",
            "Epoch 2: Accuracy 0.93760 [8.55 seconds]\n",
            "Epoch 3: Accuracy 0.94750 [8.82 seconds]\n",
            "Epoch 4: Accuracy 0.95410 [8.83 seconds]\n",
            "Epoch 5: Accuracy 0.96050 [8.93 seconds]\n",
            "Epoch 6: Accuracy 0.96290 [8.46 seconds]\n",
            "Epoch 7: Accuracy 0.96800 [10.54 seconds]\n",
            "Epoch 8: Accuracy 0.96890 [11.23 seconds]\n",
            "Epoch 9: Accuracy 0.97170 [8.90 seconds]\n",
            "Epoch 10: Accuracy 0.97240 [8.92 seconds]\n"
          ]
        }
      ]
    },
    {
      "cell_type": "markdown",
      "source": [
        "# Study Accuracy, Quality, etc.\n",
        "\n",
        "Compare the various results and report your observations on the submission."
      ],
      "metadata": {
        "id": "ZPMdfEhtR3zm"
      }
    },
    {
      "cell_type": "code",
      "source": [
        "# FGSM untargeted attack\n",
        "def eval_acc(model, type_att=0):\n",
        "  types = [\"FGSM untargeted\", \"FGSM targeted\", \"PGD\"]\n",
        "  total = 0\n",
        "  correct_normal = 0\n",
        "  correct_attack = 0\n",
        "  model.eval()\n",
        "\n",
        "  for x, y in test_loader:\n",
        "    out_norm = model(x)\n",
        "\n",
        "    new_x = x\n",
        "    if type_att%3 == 0:\n",
        "      new_x = fgsm(model, x, y, 20.0/256, targeted=False)\n",
        "    elif type_att%3 == 1:\n",
        "      new_x = fgsm(model, x, (y+3)%10, 20.0/256, targeted=True)\n",
        "    else:\n",
        "      new_x = pgd_untargeted(model, x, y, 20.0/256, 1.0/256)\n",
        "\n",
        "    out_attack = model(new_x)\n",
        "\n",
        "    pred_norm = out_norm.argmax(dim=1)\n",
        "    pred_attack = out_attack.argmax(dim=1)\n",
        "\n",
        "    correct_normal += sum([y[i] == pred_norm[i] for i in range(len(pred_norm))])\n",
        "    correct_attack += sum([y[i] == pred_attack[i] for i in range(len(pred_attack))])\n",
        "    total += len(y)\n",
        "\n",
        "  print(\"Model accuracy on original dataset: \", correct_normal / total)\n",
        "\n",
        "  print(\"Model accuracy after \", types[type_att%3], \" attack: \", correct_attack / total)"
      ],
      "metadata": {
        "id": "ufD-ccTFR8R2"
      },
      "execution_count": 120,
      "outputs": []
    },
    {
      "cell_type": "code",
      "source": [
        "eval_acc(model_basic, type_att=0)"
      ],
      "metadata": {
        "colab": {
          "base_uri": "https://localhost:8080/"
        },
        "id": "emKTRGTFvd3Q",
        "outputId": "e2d69c3f-e981-42e6-d9a5-4ffa45c07142"
      },
      "execution_count": 121,
      "outputs": [
        {
          "output_type": "stream",
          "name": "stdout",
          "text": [
            "Model accuracy on original dataset:  tensor(0.9724)\n",
            "Model accuracy after  FGSM untargeted  attack:  tensor(0.4320)\n"
          ]
        }
      ]
    },
    {
      "cell_type": "code",
      "source": [
        "eval_acc(model_basic, type_att=1)"
      ],
      "metadata": {
        "colab": {
          "base_uri": "https://localhost:8080/"
        },
        "id": "LAww0dKDqiJa",
        "outputId": "7c21e782-9185-4982-9b1d-78a314a84f82"
      },
      "execution_count": 122,
      "outputs": [
        {
          "output_type": "stream",
          "name": "stdout",
          "text": [
            "Model accuracy on original dataset:  tensor(0.9724)\n",
            "Model accuracy after  FGSM targeted  attack:  tensor(0.7580)\n"
          ]
        }
      ]
    },
    {
      "cell_type": "code",
      "source": [
        "eval_acc(model_basic, type_att=2)"
      ],
      "metadata": {
        "colab": {
          "base_uri": "https://localhost:8080/"
        },
        "id": "tWfIkklZzvui",
        "outputId": "3f05b361-eb4a-4f3c-be44-5ff5fe732d4a"
      },
      "execution_count": 123,
      "outputs": [
        {
          "output_type": "stream",
          "name": "stdout",
          "text": [
            "Model accuracy on original dataset:  tensor(0.9724)\n",
            "Model accuracy after  PGD  attack:  tensor(0.3626)\n"
          ]
        }
      ]
    },
    {
      "cell_type": "code",
      "source": [
        "x, y = next(iter(test_loader))\n",
        "\n",
        "x_fgsm_targeted = fgsm(model_basic, x, y, 20.0/256, targeted=False)\n",
        "x_fgsm_untargeted_features = fgsm(model_basic, x, (y+3)%10, 20.0/256, targeted=True)\n",
        "x_pgd_features = pgd_untargeted(model_basic, x, y, 20.0/256, 1.0/256)\n",
        "\n",
        "fig, axs = plt.subplots(1, 4, figsize=(15, 60))\n",
        "axs[0].imshow(x.detach().numpy()[0][0], cmap='gray')\n",
        "axs[1].imshow(x_fgsm_targeted.detach().numpy()[0][0], cmap='gray')\n",
        "axs[2].imshow(x_fgsm_untargeted_features.detach().numpy()[0][0], cmap='gray')\n",
        "axs[3].imshow(x_pgd_features.detach().numpy()[0][0], cmap='gray')"
      ],
      "metadata": {
        "colab": {
          "base_uri": "https://localhost:8080/",
          "height": 331
        },
        "id": "EjC64MW30-QD",
        "outputId": "e320f11f-368a-49ff-c7c6-48030b060782"
      },
      "execution_count": 124,
      "outputs": [
        {
          "output_type": "execute_result",
          "data": {
            "text/plain": [
              "<matplotlib.image.AxesImage at 0x7bf73d5b5840>"
            ]
          },
          "metadata": {},
          "execution_count": 124
        },
        {
          "output_type": "display_data",
          "data": {
            "text/plain": [
              "<Figure size 1500x6000 with 4 Axes>"
            ],
            "image/png": "[encoded data removed]"
          },
          "metadata": {}
        }
      ]
    },
    {
      "cell_type": "markdown",
      "source": [
        "## PGD Training"
      ],
      "metadata": {
        "id": "QUHA-B2hyBc-"
      }
    },
    {
      "cell_type": "code",
      "source": [
        "model_adv = train_model(model_raw, 5, enable_defense=True)"
      ],
      "metadata": {
        "colab": {
          "base_uri": "https://localhost:8080/"
        },
        "id": "GGi9XM78v-Ok",
        "outputId": "ec3d86b2-436e-459f-fbd2-64f298d83349"
      },
      "execution_count": 98,
      "outputs": [
        {
          "output_type": "stream",
          "name": "stdout",
          "text": [
            "Epoch 1: Accuracy 0.96880 [48.47 seconds]\n",
            "Epoch 2: Accuracy 0.96950 [47.16 seconds]\n",
            "Epoch 3: Accuracy 0.97260 [51.57 seconds]\n",
            "Epoch 4: Accuracy 0.97380 [47.23 seconds]\n",
            "Epoch 5: Accuracy 0.97500 [47.06 seconds]\n"
          ]
        }
      ]
    },
    {
      "cell_type": "code",
      "source": [
        "eval_acc(model_adv, type_att=0)"
      ],
      "metadata": {
        "colab": {
          "base_uri": "https://localhost:8080/"
        },
        "id": "u_rC7AHzyMxT",
        "outputId": "8cc1f200-ffa7-44e5-c99c-47325a3204d5"
      },
      "execution_count": 125,
      "outputs": [
        {
          "output_type": "stream",
          "name": "stdout",
          "text": [
            "Model accuracy on original dataset:  tensor(0.9765)\n",
            "Model accuracy after  FGSM untargeted  attack:  tensor(0.8848)\n"
          ]
        }
      ]
    },
    {
      "cell_type": "code",
      "source": [
        "eval_acc(model_adv, type_att=1)"
      ],
      "metadata": {
        "colab": {
          "base_uri": "https://localhost:8080/"
        },
        "id": "gFfGO25-3G09",
        "outputId": "30255ccc-6177-4a87-99be-24b7facdf9b0"
      },
      "execution_count": 126,
      "outputs": [
        {
          "output_type": "stream",
          "name": "stdout",
          "text": [
            "Model accuracy on original dataset:  tensor(0.9765)\n",
            "Model accuracy after  FGSM targeted  attack:  tensor(0.9497)\n"
          ]
        }
      ]
    },
    {
      "cell_type": "code",
      "source": [
        "eval_acc(model_adv, type_att=2)"
      ],
      "metadata": {
        "colab": {
          "base_uri": "https://localhost:8080/"
        },
        "id": "k_yISuJa3Hup",
        "outputId": "3446937b-a513-4795-bfa0-248b5feef107"
      },
      "execution_count": 127,
      "outputs": [
        {
          "output_type": "stream",
          "name": "stdout",
          "text": [
            "Model accuracy on original dataset:  tensor(0.9765)\n",
            "Model accuracy after  PGD  attack:  tensor(0.8761)\n"
          ]
        }
      ]
    },
    {
      "cell_type": "code",
      "source": [],
      "metadata": {
        "id": "lAdMnPE-5-v-"
      },
      "execution_count": null,
      "outputs": []
    }
  ],
  "metadata": {
    "kernelspec": {
      "display_name": "Python3 (ml)",
      "language": "python",
      "name": "ml"
    },
    "language_info": {
      "codemirror_mode": {
        "name": "ipython",
        "version": 3
      },
      "file_extension": ".py",
      "mimetype": "text/x-python",
      "name": "python",
      "nbconvert_exporter": "python",
      "pygments_lexer": "ipython3",
      "version": "3.7.0"
    },
    "colab": {
      "provenance": []
    }
  },
  "nbformat": 4,
  "nbformat_minor": 0
}